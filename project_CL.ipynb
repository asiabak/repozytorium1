{
  "nbformat": 4,
  "nbformat_minor": 0,
  "metadata": {
    "colab": {
      "provenance": [],
      "authorship_tag": "ABX9TyP+FfL0Qq60+hFLxuTJxvwi",
      "include_colab_link": true
    },
    "kernelspec": {
      "name": "python3",
      "display_name": "Python 3"
    },
    "language_info": {
      "name": "python"
    }
  },
  "cells": [
    {
      "cell_type": "markdown",
      "metadata": {
        "id": "view-in-github",
        "colab_type": "text"
      },
      "source": [
        "<a href=\"https://colab.research.google.com/github/asiabak/repozytorium1/blob/main/project_CL.ipynb\" target=\"_parent\"><img src=\"https://colab.research.google.com/assets/colab-badge.svg\" alt=\"Open In Colab\"/></a>"
      ]
    },
    {
      "cell_type": "code",
      "execution_count": 8,
      "metadata": {
        "colab": {
          "base_uri": "https://localhost:8080/"
        },
        "id": "6hdHp5lps43a",
        "outputId": "b2e350e5-9c30-4c5b-ce32-4b36622d809e"
      },
      "outputs": [
        {
          "output_type": "stream",
          "name": "stdout",
          "text": [
            "   47.35  8.72  \\\n",
            "0  47.42  9.38   \n",
            "1  46.88  8.64   \n",
            "2  47.63  8.80   \n",
            "3  47.41  8.40   \n",
            "4  47.35  8.72   \n",
            "5  47.48  9.49   \n",
            "6  47.05  8.31   \n",
            "7  47.29  7.94   \n",
            "8  47.02  8.65   \n",
            "9  47.04  7.28   \n",
            "\n",
            "  wüsseder was ich ironisch find? wenn eini mitem chopftuech raucht und alkohol trinkt. hüchler! chund glaub au chli druf ah us wellem grund mer so es chopftuech trägt.. wend eifach vom ma/vater zwunge wirsch, denn chanis no einigermasse nahvollzieh. Lo doch jede sini Religion uslebe, wie er/sie will. Falls ichs bin ha s chopftuech nur ah damiti kei nassi haar und chalti ohre überchume das isch ja kes uslebe vo religion? du z'oberscht heschn punkt aber wens sich denn widersetzed wieso nöd ganz? will de soziali druck gross isch.. get gueti experimänt zu dem thema (YT)  \n",
            "0  Was fandet ihr das beste Argument für das Ener...                                                                                                                                                                                                                                                                                                                                                                                                                                                                                                                                           \n",
            "1  mama und ich sitzen auf dem sofa, neben meiner...                                                                                                                                                                                                                                                                                                                                                                                                                                                                                                                                           \n",
            "2  Wer freut sich au scho jetzt ufs verlengerets ...                                                                                                                                                                                                                                                                                                                                                                                                                                                                                                                                           \n",
            "3  Zwüschet \"haha ish witzig\" und 🤦🏻‍♂️🤦🏻‍♂️🤦🏻‍♂️...                                                                                                                                                                                                                                                                                                                                                                                                                                                                                                                                           \n",
            "4  Chamer das no chläbe? hauptsach mit ussicht🙄 W...                                                                                                                                                                                                                                                                                                                                                                                                                                                                                                                                           \n",
            "5  Dini muetter jo Nai s mami schloft ebe scho😥 t...                                                                                                                                                                                                                                                                                                                                                                                                                                                                                                                                           \n",
            "6  Es heisst nicht mehr Lüge sondern Kreative Inf...                                                                                                                                                                                                                                                                                                                                                                                                                                                                                                                                           \n",
            "7  De Momänt, wennd am Morge Jodel uftuesh und vo...                                                                                                                                                                                                                                                                                                                                                                                                                                                                                                                                           \n",
            "8  je meh chäs mer het umso meh löcher het de chä...                                                                                                                                                                                                                                                                                                                                                                                                                                                                                                                                           \n",
            "9  am verzwifle.. immer wider blaseentzündige - w...                                                                                                                                                                                                                                                                                                                                                                                                                                                                                                                                           \n"
          ]
        }
      ],
      "source": [
        "# reading a txt file\n",
        "file_path = \"train.txt\"\n",
        "import pandas as pd\n",
        "\n",
        "# reading the file as dataframe\n",
        "data = pd.read_csv(file_path, delimiter='\\t')  # Możesz zmienić delimiter na odpowiedni znak\n",
        "print(data.head(10))\n"
      ]
    },
    {
      "cell_type": "code",
      "source": [],
      "metadata": {
        "id": "8JfLY32vvMrX"
      },
      "execution_count": null,
      "outputs": []
    }
  ]
}